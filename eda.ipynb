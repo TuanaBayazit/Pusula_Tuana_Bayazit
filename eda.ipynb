{
  "nbformat": 4,
  "nbformat_minor": 0,
  "metadata": {
    "colab": {
      "provenance": []
    },
    "kernelspec": {
      "name": "python3",
      "display_name": "Python 3"
    },
    "language_info": {
      "name": "python"
    }
  },
  "cells": [
    {
      "cell_type": "code",
      "execution_count": null,
      "metadata": {
        "id": "eD2JJdUrG7zU"
      },
      "outputs": [],
      "source": [
        "# ================================\n",
        "# Tuana Bayazıt\n",
        "# byztuana@gmail.com\n",
        "# ================================\n",
        "import pandas as pd\n",
        "import numpy as np\n",
        "import matplotlib.pyplot as plt\n",
        "import seaborn as sns\n",
        "%matplotlib inline\n",
        "from google.colab import drive\n",
        "\n",
        "df = pd.read_excel(\"Talent_Academy_Case_DT_2025.xlsx\")\n",
        "\n",
        "print(\"Shape of dataset:\", df.shape)\n",
        "print(df.head())\n",
        "print(df.info())\n",
        "print(df.describe(include=\"all\"))\n",
        "print(\"Missing values per column:\")\n",
        "print(df.isnull().sum())\n",
        "\n",
        "df['TedaviSuresi_numeric'] = df['TedaviSuresi'].astype(str).str.replace(' Seans', '', regex=False).astype(float)\n",
        "df['UygulamaSuresi_numeric'] = df['UygulamaSuresi'].astype(str).str.replace(' Dakika', '', regex=False).astype(float)\n",
        "\n",
        "\n",
        "num_cols = [\"Yas\", \"TedaviSuresi_numeric\", \"UygulamaSuresi_numeric\"]\n",
        "for col in num_cols:\n",
        "    plt.figure(figsize=(6,4))\n",
        "    sns.histplot(df[col], kde=True, bins=30)\n",
        "    plt.title(f\"Distribution of {col}\")\n",
        "    plt.show()\n",
        "\n",
        "# outliers\n",
        "for col in num_cols:\n",
        "    plt.figure(figsize=(6,4))\n",
        "    sns.boxplot(x=df[col])\n",
        "    plt.title(f\"Boxplot of {col}\")\n",
        "    plt.show()\n",
        "\n",
        "# categorical features\n",
        "cat_cols = [\"Cinsiyet\", \"KanGrubu\", \"Uyruk\", \"Bolum\"]\n",
        "for col in cat_cols:\n",
        "    plt.figure(figsize=(6,4))\n",
        "    sns.countplot(x=df[col])\n",
        "    plt.title(f\"Countplot of {col}\")\n",
        "    plt.xticks(rotation=45)\n",
        "    plt.show()\n",
        "\n",
        "# target variable\n",
        "plt.figure(figsize=(6,4))\n",
        "sns.histplot(df[\"TedaviSuresi_numeric\"], bins=30, kde=True)\n",
        "plt.title(\"Target Variable Distribution: TedaviSuresi (Numeric)\")\n",
        "plt.show()\n",
        "\n",
        "for col in cat_cols:\n",
        "    plt.figure(figsize=(8,4))\n",
        "    sns.boxplot(x=col, y=\"TedaviSuresi_numeric\", data=df)\n",
        "    plt.title(f\"TedaviSuresi (Numeric) by {col}\")\n",
        "    plt.xticks(rotation=45)\n",
        "    plt.show()\n",
        "\n",
        "plt.figure(figsize=(6,4))\n",
        "sns.scatterplot(x=\"Yas\", y=\"TedaviSuresi_numeric\", hue=\"Cinsiyet\", data=df)\n",
        "plt.title(\"Age vs Treatment Duration (Numeric) by Gender\")\n",
        "plt.show()\n",
        "\n",
        "plt.figure(figsize=(6,4))\n",
        "sns.scatterplot(x=\"UygulamaSuresi_numeric\", y=\"TedaviSuresi_numeric\", hue=\"Bolum\", data=df)\n",
        "plt.title(\"Application Duration (Numeric) vs Treatment Duration (Numeric) by Department\")\n",
        "plt.show()\n",
        "\n",
        "plt.figure(figsize=(6,4))\n",
        "sns.heatmap(df[num_cols].corr(), annot=True, cmap=\"Blues\")\n",
        "plt.title(\"Correlation Heatmap (Numerical)\")\n",
        "plt.show()\n"
      ]
    },
    {
      "cell_type": "code",
      "metadata": {
        "id": "c237f877"
      },
      "source": [],
      "execution_count": null,
      "outputs": []
    }
  ]
}