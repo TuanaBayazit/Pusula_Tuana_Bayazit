# ================================
# Tuana Bayazıt
# byztuana@gmail.com
# ================================

import pandas as pd
import numpy as np
import matplotlib.pyplot as plt
import seaborn as sns
%matplotlib inline
from google.colab import drive

df = pd.read_excel("Talent_Academy_Case_DT_2025.xlsx")

print("Shape of dataset:", df.shape)
print(df.head())
print(df.info())
print(df.describe(include="all"))
print("Missing values per column:")
print(df.isnull().sum())

df['TedaviSuresi_numeric'] = df['TedaviSuresi'].astype(str).str.replace(' Seans', '', regex=False).astype(float)
df['UygulamaSuresi_numeric'] = df['UygulamaSuresi'].astype(str).str.replace(' Dakika', '', regex=False).astype(float)


num_cols = ["Yas", "TedaviSuresi_numeric", "UygulamaSuresi_numeric"]
for col in num_cols:
    plt.figure(figsize=(6,4))
    sns.histplot(df[col], kde=True, bins=30)
    plt.title(f"Distribution of {col}")
    plt.show()

# outliers
for col in num_cols:
    plt.figure(figsize=(6,4))
    sns.boxplot(x=df[col])
    plt.title(f"Boxplot of {col}")
    plt.show()

# categorical features
cat_cols = ["Cinsiyet", "KanGrubu", "Uyruk", "Bolum"]
for col in cat_cols:
    plt.figure(figsize=(6,4))
    sns.countplot(x=df[col])
    plt.title(f"Countplot of {col}")
    plt.xticks(rotation=45)
    plt.show()

# target variable
plt.figure(figsize=(6,4))
sns.histplot(df["TedaviSuresi_numeric"], bins=30, kde=True)
plt.title("Target Variable Distribution: TedaviSuresi (Numeric)")
plt.show()

for col in cat_cols:
    plt.figure(figsize=(8,4))
    sns.boxplot(x=col, y="TedaviSuresi_numeric", data=df)
    plt.title(f"TedaviSuresi (Numeric) by {col}")
    plt.xticks(rotation=45)
    plt.show()

plt.figure(figsize=(6,4))
sns.scatterplot(x="Yas", y="TedaviSuresi_numeric", hue="Cinsiyet", data=df)
plt.title("Age vs Treatment Duration (Numeric) by Gender")
plt.show()

plt.figure(figsize=(6,4))
sns.scatterplot(x="UygulamaSuresi_numeric", y="TedaviSuresi_numeric", hue="Bolum", data=df)
plt.title("Application Duration (Numeric) vs Treatment Duration (Numeric) by Department")
plt.show()

plt.figure(figsize=(6,4))
sns.heatmap(df[num_cols].corr(), annot=True, cmap="Blues")
plt.title("Correlation Heatmap (Numerical)")
plt.show()
